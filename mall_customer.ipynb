{
  "metadata": {
    "kernelspec": {
      "language": "python",
      "display_name": "Python 3",
      "name": "python3"
    },
    "language_info": {
      "name": "python",
      "version": "3.11.11",
      "mimetype": "text/x-python",
      "codemirror_mode": {
        "name": "ipython",
        "version": 3
      },
      "pygments_lexer": "ipython3",
      "nbconvert_exporter": "python",
      "file_extension": ".py"
    },
    "kaggle": {
      "accelerator": "none",
      "dataSources": [
        {
          "sourceId": 74935,
          "sourceType": "datasetVersion",
          "datasetId": 42674
        }
      ],
      "dockerImageVersionId": 31040,
      "isInternetEnabled": true,
      "language": "python",
      "sourceType": "notebook",
      "isGpuEnabled": false
    },
    "colab": {
      "name": "mall_customer",
      "provenance": [],
      "include_colab_link": true
    }
  },
  "nbformat_minor": 0,
  "nbformat": 4,
  "cells": [
    {
      "cell_type": "markdown",
      "metadata": {
        "id": "view-in-github",
        "colab_type": "text"
      },
      "source": [
        "<a href=\"https://colab.research.google.com/github/gantapriyanka1325/SC_ML/blob/main/mall_customer.ipynb\" target=\"_parent\"><img src=\"https://colab.research.google.com/assets/colab-badge.svg\" alt=\"Open In Colab\"/></a>"
      ]
    },
    {
      "source": [
        "# IMPORTANT: RUN THIS CELL IN ORDER TO IMPORT YOUR KAGGLE DATA SOURCES,\n",
        "# THEN FEEL FREE TO DELETE THIS CELL.\n",
        "# NOTE: THIS NOTEBOOK ENVIRONMENT DIFFERS FROM KAGGLE'S PYTHON\n",
        "# ENVIRONMENT SO THERE MAY BE MISSING LIBRARIES USED BY YOUR\n",
        "# NOTEBOOK.\n",
        "import kagglehub\n",
        "vjchoudhary7_customer_segmentation_tutorial_in_python_path = kagglehub.dataset_download('vjchoudhary7/customer-segmentation-tutorial-in-python')\n",
        "\n",
        "print('Data source import complete.')\n"
      ],
      "metadata": {
        "id": "kN4LPIfKspHa"
      },
      "cell_type": "code",
      "outputs": [],
      "execution_count": null
    },
    {
      "cell_type": "code",
      "source": [
        "# Mall Customer Segmentation using K-Means Clustering\n",
        "\n",
        "import pandas as pd\n",
        "import matplotlib.pyplot as plt\n",
        "import seaborn as sns\n",
        "from sklearn.cluster import KMeans\n",
        "\n",
        "# Load dataset\n",
        "df = pd.read_csv('/kaggle/input/customer-segmentation-tutorial-in-python/Mall_Customers.csv')\n",
        "\n",
        "# Preview the dataset\n",
        "print(\"Data Sample:\")\n",
        "print(df.head())\n",
        "\n",
        "# Use Annual Income and Spending Score for clustering\n",
        "X = df[['Annual Income (k$)', 'Spending Score (1-100)']]\n",
        "\n",
        "# Visualize raw data\n",
        "plt.figure(figsize=(8,6))\n",
        "plt.scatter(X['Annual Income (k$)'], X['Spending Score (1-100)'], color='blue')\n",
        "plt.xlabel(\"Annual Income (k$)\")\n",
        "plt.ylabel(\"Spending Score (1-100)\")\n",
        "plt.title(\"Customer Distribution\")\n",
        "plt.grid(True)\n",
        "plt.show()\n",
        "\n",
        "# Use Elbow Method to find optimal k\n",
        "wcss = []\n",
        "for i in range(1, 11):\n",
        "    kmeans = KMeans(n_clusters=i, init='k-means++', random_state=42)\n",
        "    kmeans.fit(X)\n",
        "    wcss.append(kmeans.inertia_)\n",
        "\n",
        "# Plot WCSS\n",
        "plt.figure(figsize=(8,6))\n",
        "plt.plot(range(1, 11), wcss, marker='o')\n",
        "plt.title('The Elbow Method')\n",
        "plt.xlabel('Number of clusters')\n",
        "plt.ylabel('WCSS')\n",
        "plt.grid(True)\n",
        "plt.show()\n",
        "\n",
        "# Apply KMeans with optimal clusters (k=5 based on elbow curve)\n",
        "kmeans = KMeans(n_clusters=5, init='k-means++', random_state=42)\n",
        "y_kmeans = kmeans.fit_predict(X)\n",
        "\n",
        "# Add cluster labels to dataset\n",
        "df['Cluster'] = y_kmeans\n",
        "\n",
        "# Visualize clusters\n",
        "plt.figure(figsize=(8,6))\n",
        "colors = ['red', 'blue', 'green', 'cyan', 'magenta']\n",
        "for i in range(5):\n",
        "    plt.scatter(\n",
        "        X[y_kmeans == i]['Annual Income (k$)'],\n",
        "        X[y_kmeans == i]['Spending Score (1-100)'],\n",
        "        s=100, c=colors[i], label=f'Cluster {i+1}'\n",
        "    )\n",
        "plt.scatter(\n",
        "    kmeans.cluster_centers_[:, 0], kmeans.cluster_centers_[:, 1],\n",
        "    s=200, c='yellow', label='Centroids', marker='X'\n",
        ")\n",
        "plt.xlabel(\"Annual Income (k$)\")\n",
        "plt.ylabel(\"Spending Score (1-100)\")\n",
        "plt.title(\"Customer Segments\")\n",
        "plt.legend()\n",
        "plt.grid(True)\n",
        "plt.show()\n"
      ],
      "metadata": {
        "_uuid": "8f2839f25d086af736a60e9eeb907d3b93b6e0e5",
        "_cell_guid": "b1076dfc-b9ad-4769-8c92-a6c4dae69d19",
        "trusted": true,
        "execution": {
          "iopub.status.busy": "2025-07-02T07:13:06.252658Z",
          "iopub.execute_input": "2025-07-02T07:13:06.252933Z",
          "iopub.status.idle": "2025-07-02T07:13:09.098823Z",
          "shell.execute_reply.started": "2025-07-02T07:13:06.252911Z",
          "shell.execute_reply": "2025-07-02T07:13:09.097883Z"
        },
        "id": "F8yxqBLgspHb"
      },
      "outputs": [],
      "execution_count": null
    },
    {
      "cell_type": "code",
      "source": [],
      "metadata": {
        "trusted": true,
        "id": "ZCPDbbo9spHb"
      },
      "outputs": [],
      "execution_count": null
    }
  ]
}